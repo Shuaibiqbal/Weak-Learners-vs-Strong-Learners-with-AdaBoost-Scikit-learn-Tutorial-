{
 "cells": [
  {
   "cell_type": "markdown",
   "id": "42e1f226",
   "metadata": {},
   "source": [
    "## Importing Libraries"
   ]
  },
  {
   "cell_type": "code",
   "execution_count": 1,
   "id": "ff09f4d6",
   "metadata": {},
   "outputs": [],
   "source": [
    "from sklearn.model_selection import train_test_split\n",
    "from sklearn.ensemble import RandomForestClassifier, AdaBoostClassifier\n",
    "from sklearn.tree import DecisionTreeClassifier\n",
    "from sklearn.datasets import make_classification\n",
    "from sklearn.metrics import accuracy_score\n",
    "from sklearn.dummy import DummyClassifier"
   ]
  },
  {
   "cell_type": "markdown",
   "id": "7160f821",
   "metadata": {},
   "source": [
    "## 1️⃣ Create Binary Classification Dataset\n"
   ]
  },
  {
   "cell_type": "code",
   "execution_count": 2,
   "id": "2dbdc856",
   "metadata": {},
   "outputs": [],
   "source": [
    "X, y = make_classification(\n",
    "    n_samples=1000,        # Total samples\n",
    "    n_features=10,         # Total features\n",
    "    n_informative=2,       # Useful features\n",
    "    n_redundant=0,         # Noise\n",
    "    n_clusters_per_class=1,\n",
    "    flip_y=0.1,            # Add noise to target labels (10% flipped)\n",
    "    random_state=42\n",
    ")"
   ]
  },
  {
   "cell_type": "code",
   "execution_count": 3,
   "id": "6f91503d",
   "metadata": {},
   "outputs": [],
   "source": [
    "X_train, X_test, y_train, y_test = train_test_split(X,y, test_size=0.2, random_state=42, stratify=y, shuffle=True)"
   ]
  },
  {
   "cell_type": "markdown",
   "id": "1b9cb187",
   "metadata": {},
   "source": [
    "## 2️⃣ Random Guessing (Baseline)"
   ]
  },
  {
   "cell_type": "code",
   "execution_count": 4,
   "id": "73a1bfd6",
   "metadata": {},
   "outputs": [
    {
     "data": {
      "text/plain": [
       "0.48"
      ]
     },
     "execution_count": 4,
     "metadata": {},
     "output_type": "execute_result"
    }
   ],
   "source": [
    "random_clf = DummyClassifier(strategy=\"uniform\", random_state=42)\n",
    "random_clf.fit(X_train, y_train)\n",
    "y_pred_random = random_clf.predict(X_test)\n",
    "\n",
    "accuracy_random_clf = accuracy_score(y_test, y_pred_random)\n",
    "accuracy_random_clf"
   ]
  },
  {
   "cell_type": "markdown",
   "id": "20d233ce",
   "metadata": {},
   "source": [
    "## 3️⃣ Weak Learner (Decision Stump)\n"
   ]
  },
  {
   "cell_type": "code",
   "execution_count": 5,
   "id": "a6541911",
   "metadata": {},
   "outputs": [
    {
     "data": {
      "text/plain": [
       "0.895"
      ]
     },
     "execution_count": 5,
     "metadata": {},
     "output_type": "execute_result"
    }
   ],
   "source": [
    "weak_clf = DecisionTreeClassifier(max_depth=1, random_state=42)\n",
    "weak_clf.fit(X_train, y_train)\n",
    "y_pred_weak_clf = weak_clf.predict(X_test)\n",
    "accuracy_weak_clf = accuracy_score(y_pred_weak_clf, y_test)\n",
    "accuracy_weak_clf"
   ]
  },
  {
   "cell_type": "markdown",
   "id": "fb74b59a",
   "metadata": {},
   "source": [
    "## 4️⃣ Boosted Weak Learners (AdaBoost)"
   ]
  },
  {
   "cell_type": "code",
   "execution_count": 6,
   "id": "253f6b35",
   "metadata": {},
   "outputs": [
    {
     "data": {
      "text/plain": [
       "0.895"
      ]
     },
     "execution_count": 6,
     "metadata": {},
     "output_type": "execute_result"
    }
   ],
   "source": [
    "boosted_clf = AdaBoostClassifier(\n",
    "                                estimator=DecisionTreeClassifier(max_depth=1),\n",
    "                                n_estimators = 50, # Number of weak learners\n",
    "                                learning_rate = 0.1,  # Weight of each learner\n",
    "                                random_state = 42)\n",
    "boosted_clf.fit(X_train, y_train)\n",
    "y_pred_boosted = boosted_clf.predict(X_test)\n",
    "\n",
    "accuracy_boosted_clf = accuracy_score(y_test, y_pred_boosted)\n",
    "accuracy_boosted_clf"
   ]
  },
  {
   "cell_type": "markdown",
   "id": "92bdc0c2",
   "metadata": {},
   "source": [
    "## 5️⃣ Strong Learner (Random Forest)"
   ]
  },
  {
   "cell_type": "code",
   "execution_count": null,
   "id": "f4b56ac1",
   "metadata": {},
   "outputs": [
    {
     "data": {
      "text/plain": [
       "0.93"
      ]
     },
     "execution_count": 8,
     "metadata": {},
     "output_type": "execute_result"
    }
   ],
   "source": [
    "strong_learner_clf = RandomForestClassifier(\n",
    "                     n_estimators = 100, # Many deep trees\n",
    "                     max_depth = None, # Fully grown trees\n",
    "                     random_state = 42)\n",
    "strong_learner_clf.fit(X_train, y_train)\n",
    "y_pred_strong_clf = strong_learner_clf.predict(X_test)\n",
    "\n",
    "accuracy_strong_clf = accuracy_score(y_test, y_pred_strong_clf)\n",
    "accuracy_strong_clf"
   ]
  },
  {
   "cell_type": "markdown",
   "id": "0f8ed856",
   "metadata": {},
   "source": [
    "## 🔚 Final Results"
   ]
  },
  {
   "cell_type": "code",
   "execution_count": 9,
   "id": "ac57970b",
   "metadata": {},
   "outputs": [
    {
     "name": "stdout",
     "output_type": "stream",
     "text": [
      "📊 Final Accuracy Comparison:\n",
      "\n",
      "🎲 Random Guessing (DummyClassifier): 0.48\n",
      "🪓 Weak Learner (Decision Stump, max_depth=1): 0.90\n",
      "🔥 AdaBoost (50 Weak Learners): 0.90\n",
      "🌲 Strong Learner (Random Forest): 0.93\n"
     ]
    }
   ],
   "source": [
    "print(\"📊 Final Accuracy Comparison:\\n\")\n",
    "print(f\"🎲 Random Guessing (DummyClassifier): {accuracy_random_clf:.2f}\")\n",
    "print(f\"🪓 Weak Learner (Decision Stump, max_depth=1): {accuracy_weak_clf:.2f}\")\n",
    "print(f\"🔥 AdaBoost (50 Weak Learners): {accuracy_boosted_clf:.2f}\")\n",
    "print(f\"🌲 Strong Learner (Random Forest): {accuracy_strong_clf:.2f}\")"
   ]
  },
  {
   "cell_type": "markdown",
   "id": "92769003",
   "metadata": {},
   "source": [
    "### 🧠 Interpretation\n",
    "* **Random Guessing** ≈ 50% (baseline)\n",
    "* **Weak Learner** slightly beats that → proves it’s weak (but better than random)\n",
    "* **AdaBoost** shows the power of combining weak learners\n",
    "* **Strong Learner (RF)** confirms how full models outperform"
   ]
  }
 ],
 "metadata": {
  "kernelspec": {
   "display_name": "myenv",
   "language": "python",
   "name": "python3"
  },
  "language_info": {
   "codemirror_mode": {
    "name": "ipython",
    "version": 3
   },
   "file_extension": ".py",
   "mimetype": "text/x-python",
   "name": "python",
   "nbconvert_exporter": "python",
   "pygments_lexer": "ipython3",
   "version": "3.10.13"
  }
 },
 "nbformat": 4,
 "nbformat_minor": 5
}
