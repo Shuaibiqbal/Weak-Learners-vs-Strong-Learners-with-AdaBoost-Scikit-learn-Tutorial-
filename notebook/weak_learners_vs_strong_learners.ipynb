{
 "cells": [
  {
   "cell_type": "markdown",
   "id": "42e1f226",
   "metadata": {},
   "source": [
    "## Importing Libraries"
   ]
  },
  {
   "cell_type": "code",
   "execution_count": 2,
   "id": "ff09f4d6",
   "metadata": {},
   "outputs": [],
   "source": [
    "from sklearn.model_selection import train_test_split\n",
    "from sklearn.ensemble import RandomForestClassifier, AdaBoostClassifier\n",
    "from sklearn.tree import DecisionTreeClassifier\n",
    "from sklearn.datasets import make_classification\n",
    "from sklearn.metrics import accuracy_score\n",
    "from sklearn.dummy import DummyClassifier"
   ]
  },
  {
   "cell_type": "markdown",
   "id": "7160f821",
   "metadata": {},
   "source": [
    "## 1️⃣ Create Binary Classification Dataset\n"
   ]
  },
  {
   "cell_type": "code",
   "execution_count": 25,
   "id": "2dbdc856",
   "metadata": {},
   "outputs": [],
   "source": [
    "X, y = make_classification(\n",
    "    n_samples=1000,        # Total samples\n",
    "    n_features=10,         # Total features\n",
    "    n_informative=2,       # Useful features\n",
    "    n_redundant=0,         # Noise\n",
    "    n_clusters_per_class=1,\n",
    "    flip_y=0.1,            # Add noise to target labels (10% flipped)\n",
    "    random_state=42\n",
    ")"
   ]
  },
  {
   "cell_type": "code",
   "execution_count": 26,
   "id": "6f91503d",
   "metadata": {},
   "outputs": [],
   "source": [
    "X_train, X_test, y_train, y_test = train_test_split(X,y, test_size=0.2, random_state=42, stratify=y, shuffle=True)"
   ]
  },
  {
   "cell_type": "markdown",
   "id": "1b9cb187",
   "metadata": {},
   "source": [
    "## 2️⃣ Random Guessing (Baseline)"
   ]
  },
  {
   "cell_type": "code",
   "execution_count": 27,
   "id": "73a1bfd6",
   "metadata": {},
   "outputs": [
    {
     "data": {
      "text/plain": [
       "0.48"
      ]
     },
     "execution_count": 27,
     "metadata": {},
     "output_type": "execute_result"
    }
   ],
   "source": [
    "random_clf = DummyClassifier(strategy=\"uniform\", random_state=42)\n",
    "random_clf.fit(X_train, y_train)\n",
    "y_pred_random = random_clf.predict(X_test)\n",
    "\n",
    "accuracy_random_clf = accuracy_score(y_test, y_pred_random)\n",
    "accuracy_random_clf"
   ]
  },
  {
   "cell_type": "markdown",
   "id": "20d233ce",
   "metadata": {},
   "source": [
    "## 3️⃣ Weak Learner (Decision Stump)\n"
   ]
  },
  {
   "cell_type": "code",
   "execution_count": null,
   "id": "a6541911",
   "metadata": {},
   "outputs": [
    {
     "data": {
      "text/plain": [
       "0.895"
      ]
     },
     "execution_count": 28,
     "metadata": {},
     "output_type": "execute_result"
    }
   ],
   "source": [
    "weak_clf = DecisionTreeClassifier(max_depth=1, random_state=42)\n",
    "weak_clf.fit(X_train, y_train)\n",
    "y_pred_weak_clf = weak_clf.predict(X_test)\n",
    "accuracy_weak_clf = accuracy_score(y_pred_weak_clf, y_test)\n",
    "accuracy_weak_clf"
   ]
  },
  {
   "cell_type": "markdown",
   "id": "fb74b59a",
   "metadata": {},
   "source": [
    "## 4️⃣ Boosted Weak Learners (AdaBoost)"
   ]
  },
  {
   "cell_type": "code",
   "execution_count": null,
   "id": "253f6b35",
   "metadata": {},
   "outputs": [],
   "source": []
  }
 ],
 "metadata": {
  "kernelspec": {
   "display_name": "myenv",
   "language": "python",
   "name": "python3"
  },
  "language_info": {
   "codemirror_mode": {
    "name": "ipython",
    "version": 3
   },
   "file_extension": ".py",
   "mimetype": "text/x-python",
   "name": "python",
   "nbconvert_exporter": "python",
   "pygments_lexer": "ipython3",
   "version": "3.10.13"
  }
 },
 "nbformat": 4,
 "nbformat_minor": 5
}
